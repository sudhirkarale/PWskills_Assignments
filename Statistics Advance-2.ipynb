{
 "cells": [
  {
   "cell_type": "markdown",
   "metadata": {},
   "source": [
    "Q1: What are the Probability Mass Function (PMF) and Probability Density Function (PDF)? Explain with an example.\n",
    "Probability Mass Function (PMF): PMF is a function that gives the probability that a discrete random variable is exactly equal to some value. For example, when rolling a fair six-sided die, the PMF would assign a probability of 1/6 to each possible outcome.\n",
    "\n",
    "Probability Density Function (PDF): PDF is a function that describes the likelihood of a continuous random variable taking on a particular value. For example, the PDF of a standard normal distribution at x=0 is approximately 0.3989."
   ]
  },
  {
   "cell_type": "markdown",
   "metadata": {},
   "source": []
  },
  {
   "cell_type": "markdown",
   "metadata": {},
   "source": [
    "Q2: What is Cumulative Density Function (CDF)? Explain with an example. Why CDF is used?\n",
    "Cumulative Density Function (CDF): CDF gives the probability that a random variable takes on a value less than or equal to a given point. For example, the CDF of a standard normal distribution at x=1 is approximately \n",
    "0.8413.\n",
    "Importance of CDF: CDF is used to understand the cumulative probability distribution of a random variable, which can be useful for making probabilistic statements about the variable's behavior."
   ]
  },
  {
   "cell_type": "markdown",
   "metadata": {},
   "source": [
    "Q3: What are some examples of situations where the normal distribution might be used as a model? Explain how the parameters of the normal distribution relate to the shape of the distribution.\n",
    "Examples: Normal distribution might be used to model heights or weights of a population, IQ scores, errors in measurements, etc.\n",
    "Parameters: The parameters of the normal distribution are the mean (μ) and the standard deviation (σ). The mean determines the center of the distribution, and the standard deviation determines the spread or variability of the distribution."
   ]
  },
  {
   "cell_type": "markdown",
   "metadata": {},
   "source": [
    "Q4: Explain the importance of Normal Distribution. Give a few real-life examples of Normal Distribution.\n",
    "Importance: Normal distribution is important because of the Central Limit Theorem, which states that the sampling distribution of the sample mean approaches a normal distribution as the sample size increases, regardless of the shape of the population distribution.\n",
    "Examples: Heights of people in a population, IQ scores, errors in measurements, exam scores, etc."
   ]
  },
  {
   "cell_type": "markdown",
   "metadata": {},
   "source": [
    "Q5: What is Bernoulli Distribution? Give an Example. What is the difference between Bernoulli Distribution and Binomial Distribution?\n",
    "Bernoulli Distribution: It represents the outcome of a single trial, where there are only two possible outcomes: success or failure.\n",
    "Example: A coin flip can be modeled using a Bernoulli distribution, where success could be getting heads and failure could be getting tails.\n",
    "Difference from Binomial Distribution: Bernoulli distribution is a special case of the binomial distribution where the number of trials (n) is fixed at 1."
   ]
  },
  {
   "cell_type": "markdown",
   "metadata": {},
   "source": [
    "Q6: Consider a dataset with a mean of 50 and a standard deviation of 10. If we assume that the dataset is normally distributed, what is the probability that a randomly selected observation will be greater than 60? Use the appropriate formula and show your calculations.\n",
    "We can use the z-score formula: \n",
    "Z= (X−μ)/σ\n",
    "\n",
    "where X=60, μ=50, and σ=10. Then we find the corresponding probability using a z-table or a calculator."
   ]
  },
  {
   "cell_type": "markdown",
   "metadata": {},
   "source": [
    "Q7: Explain uniform Distribution with an example.\n",
    "Uniform Distribution: In a uniform distribution, all outcomes have equal probabilities. For example, rolling a fair six-sided die can be modeled using a uniform distribution, where each face has a probability of 1/6 of occurring."
   ]
  },
  {
   "cell_type": "markdown",
   "metadata": {},
   "source": [
    "Q8: What is the z score? State the importance of the z score.\n",
    "Z Score: The z-score (or standard score) measures how many standard deviations an observation is from the mean. It allows for standardization of data, making it easier to compare different datasets.\n",
    "Importance: Z-score is important because it allows us to standardize data, compare different datasets, and make probabilistic statements about the likelihood of certain observations."
   ]
  },
  {
   "cell_type": "markdown",
   "metadata": {},
   "source": [
    "Q9: What is Central Limit Theorem? State the significance of the Central Limit Theorem.\n",
    "Central Limit Theorem (CLT): The Central Limit Theorem states that the sampling distribution of the sample mean approaches a normal distribution as the sample size increases, regardless of the shape of the population distribution.\n",
    "Significance: The CLT is significant because it allows us to make inferences about population parameters based on sample statistics, even when the population distribution is not normal. It forms the basis for many statistical techniques and hypothesis testing procedures."
   ]
  },
  {
   "cell_type": "markdown",
   "metadata": {},
   "source": [
    "Q10: State the assumptions of the Central Limit Theorem.\n",
    "The assumptions of the Central Limit Theorem are:\n",
    "\n",
    "The sample is random and independent.\n",
    "The sample size is sufficiently large (typically n≥30).\n",
    "The population from which the sample is drawn has a finite variance."
   ]
  }
 ],
 "metadata": {
  "language_info": {
   "name": "python"
  }
 },
 "nbformat": 4,
 "nbformat_minor": 2
}
