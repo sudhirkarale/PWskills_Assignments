{
 "cells": [
  {
   "cell_type": "markdown",
   "metadata": {},
   "source": [
    "Q1. What are the three measures of central tendency?\n",
    "The three measures of central tendency are:\n",
    "\n",
    "Mean\n",
    "Median\n",
    "Mode\n"
   ]
  },
  {
   "cell_type": "markdown",
   "metadata": {},
   "source": [
    "Q2. What is the difference between the mean, median, and mode? How are they used to measure the central tendency of a dataset?\n",
    "Mean: The mean is the average of a dataset and is calculated by summing all the values and then dividing by the number of values. It is sensitive to extreme values.\n",
    "Median: The median is the middle value of a dataset when it is arranged in ascending order. It is not affected by extreme values and provides a better measure of central tendency when the data is skewed.\n",
    "Mode: The mode is the value that appears most frequently in a dataset. It can be used for both numerical and categorical data."
   ]
  },
  {
   "cell_type": "markdown",
   "metadata": {},
   "source": [
    "Q3. Measure the three measures of central tendency for the given height data:\n",
    "[178, 177, 176, 177, 178.2, 178, 175, 179, 180, 175, 178.9, 176.2, 177, 172.5, 178, 176.5]"
   ]
  },
  {
   "cell_type": "code",
   "execution_count": null,
   "metadata": {},
   "outputs": [],
   "source": [
    "from collections import Counter\n",
    "\n",
    "def calculate_mean(data):\n",
    "    return sum(data) / len(data)\n",
    "\n",
    "def calculate_median(data):\n",
    "    sorted_data = sorted(data)\n",
    "    n = len(sorted_data)\n",
    "    mid_index = n // 2\n",
    "    \n",
    "    if n % 2 == 0:\n",
    "        return (sorted_data[mid_index - 1] + sorted_data[mid_index]) / 2\n",
    "    else:\n",
    "        return sorted_data[mid_index]\n",
    "\n",
    "def calculate_mode(data):\n",
    "    freq_count = Counter(data)\n",
    "    max_freq = max(freq_count.values())\n",
    "    mode = [key for key, value in freq_count.items() if value == max_freq]\n",
    "    return mode\n",
    "\n",
    "# Given height data\n",
    "height_data = [178, 177, 176, 177, 178.2, 178, 175, 179, 180, 175, 178.9, 176.2, 177, 172.5, 178, 176.5]\n",
    "\n",
    "# Calculate mean\n",
    "mean_height = calculate_mean(height_data)\n",
    "print(\"Mean Height:\", mean_height)\n",
    "\n",
    "# Calculate median\n",
    "median_height = calculate_median(height_data)\n",
    "print(\"Median Height:\", median_height)\n",
    "\n",
    "# Calculate mode\n",
    "mode_height = calculate_mode(height_data)\n",
    "print(\"Mode Height:\", mode_height)\n"
   ]
  },
  {
   "cell_type": "markdown",
   "metadata": {},
   "source": [
    "Q4. Find the standard deviation for the given data:\n",
    "[178, 177, 176, 177, 178.2, 178, 175, 179, 180, 175, 178.9, 176.2, 177, 172.5, 178, 176.5]"
   ]
  },
  {
   "cell_type": "code",
   "execution_count": null,
   "metadata": {},
   "outputs": [],
   "source": [
    "import math\n",
    "\n",
    "def calculate_mean(data):\n",
    "    return sum(data) / len(data)\n",
    "\n",
    "def calculate_variance(data):\n",
    "    mean = calculate_mean(data)\n",
    "    squared_diff = [(x - mean) ** 2 for x in data]\n",
    "    return sum(squared_diff) / len(data)\n",
    "\n",
    "def calculate_standard_deviation(data):\n",
    "    variance = calculate_variance(data)\n",
    "    return math.sqrt(variance)\n",
    "\n",
    "# Given data\n",
    "data = [178, 177, 176, 177, 178.2, 178, 175, 179, 180, 175, 178.9, 176.2, 177, 172.5, 178, 176.5]\n",
    "\n",
    "# Calculate standard deviation\n",
    "std_deviation = calculate_standard_deviation(data)\n",
    "print(\"Standard Deviation:\", std_deviation)\n"
   ]
  },
  {
   "cell_type": "markdown",
   "metadata": {},
   "source": [
    "Q5. How are measures of dispersion such as range, variance, and standard deviation used to describe the spread of a dataset? Provide an example.\n",
    "Measures of dispersion quantify the extent to which data points in a dataset spread out from the central tendency. Range gives the difference between the maximum and minimum values, variance gives the average of squared differences from the mean, and standard deviation gives the square root of variance."
   ]
  },
  {
   "cell_type": "markdown",
   "metadata": {},
   "source": [
    "Q6. What is a Venn diagram?\n",
    "A Venn diagram is a diagram that shows all possible logical relations between a finite collection of different sets. It is often used to illustrate relationships between sets."
   ]
  },
  {
   "cell_type": "markdown",
   "metadata": {},
   "source": [
    "Q7. For the two given sets A = (2,3,4,5,6,7) & B = (0,2,6,8,10). Find:\n",
    "(i) A ∩ B (intersection)\n",
    "(ii) A ⋃ B (union)"
   ]
  },
  {
   "cell_type": "markdown",
   "metadata": {},
   "source": [
    "Q8. What do you understand about skewness in data?\n",
    "Skewness measures the asymmetry of the distribution of data. If the distribution leans to the left, it's negatively skewed; if it leans to the right, it's positively skewed."
   ]
  },
  {
   "cell_type": "markdown",
   "metadata": {},
   "source": [
    "Q9. If a data is right skewed then what will be the position of median with respect to mean?\n",
    "In a right-skewed distribution, the mean is greater than the median.\n"
   ]
  },
  {
   "cell_type": "markdown",
   "metadata": {},
   "source": [
    "Q10. Explain the difference between covariance and correlation. How are these measures used in statistical analysis?\n",
    "Covariance measures the degree to which two variables change together. Correlation, on the other hand, standardizes the measure of covariance to provide a scale-independent measure of how two variables are related. Covariance can be positive or negative, whereas correlation ranges from -1 to 1."
   ]
  },
  {
   "cell_type": "markdown",
   "metadata": {},
   "source": [
    "Q11. What is the formula for calculating the sample mean? Provide an example calculation for a dataset."
   ]
  },
  {
   "cell_type": "code",
   "execution_count": null,
   "metadata": {},
   "outputs": [],
   "source": [
    "def sample_mean(data):\n",
    "    # Calculate the sum of all data points\n",
    "    sum_of_data = sum(data)\n",
    "    \n",
    "    # Calculate the number of data points\n",
    "    n = len(data)\n",
    "    \n",
    "    # Calculate the sample mean\n",
    "    mean = sum_of_data / n\n",
    "    \n",
    "    return mean\n",
    "\n",
    "# Example dataset\n",
    "dataset = [10, 15, 20, 25, 30]\n",
    "\n",
    "# Calculate the sample mean\n",
    "mean = sample_mean(dataset)\n",
    "print(\"Sample Mean:\", mean)"
   ]
  },
  {
   "cell_type": "markdown",
   "metadata": {},
   "source": [
    "Q12. For a normal distribution data what is the relationship between its measure of central tendency?\n",
    "For a normal distribution, the mean, median, and mode are all equal.\n"
   ]
  },
  {
   "cell_type": "markdown",
   "metadata": {},
   "source": [
    "Q13. How is covariance different from correlation?\n",
    "Covariance measures the degree to which two variables change together, whereas correlation standardizes the measure of covariance to provide a scale-independent measure of how two variables are related. Covariance can be positive or negative, whereas correlation ranges from -1 to 1.\n"
   ]
  },
  {
   "cell_type": "markdown",
   "metadata": {},
   "source": [
    "Q14. How do outliers affect measures of central tendency and dispersion? Provide an example.\n",
    "Outliers can significantly affect measures of central tendency, such as the mean, pulling them towards the outlier's value. They may also affect measures of dispersion, such as the standard deviation, by increasing variability. For example, if you have a dataset of exam scores where most students scored between 70-80, but one student scored 95, the mean would be higher than expected and the standard deviation would increase due to the outlier."
   ]
  }
 ],
 "metadata": {
  "kernelspec": {
   "display_name": "Python 3",
   "language": "python",
   "name": "python3"
  },
  "language_info": {
   "name": "python",
   "version": "3.8.16"
  }
 },
 "nbformat": 4,
 "nbformat_minor": 2
}
