{
 "cells": [
  {
   "cell_type": "markdown",
   "metadata": {},
   "source": [
    "Q1. What is the Probability Density Function (PDF)?\n",
    "The probability density function (PDF) is a function that describes the likelihood of a continuous random variable taking on a particular value. It represents the relative likelihood of the variable being near a specific value. For continuous random variables, the probability of a single point is technically zero, so the PDF provides the probability density around that point instead. Mathematically, the PDF is often denoted as f(x), where x is the value of the random variable, and it satisfies the properties:\n",
    "f(x)≥0 for all x in the domain.\n",
    "The total area under the curve is equal to 1.\n"
   ]
  },
  {
   "cell_type": "markdown",
   "metadata": {},
   "source": [
    "Q2. What are the types of Probability Distribution?\n",
    "There are various types of probability distributions, including:\n",
    "\n",
    "Discrete Probability Distributions: These distributions are defined for discrete random variables and include the Binomial, Poisson, and Geometric distributions.\n",
    "Continuous Probability Distributions: These distributions are defined for continuous random variables and include the Normal, Exponential, and Uniform distributions."
   ]
  },
  {
   "cell_type": "markdown",
   "metadata": {},
   "source": [
    "Q3. Write a Python function to calculate the probability density function of a normal distribution with given mean and standard deviation at a given point."
   ]
  },
  {
   "cell_type": "code",
   "execution_count": null,
   "metadata": {},
   "outputs": [],
   "source": [
    "import numpy as np\n",
    "import scipy.stats\n",
    "\n",
    "def normal_pdf(x, mean, std_dev):\n",
    "    return scipy.stats.norm.pdf(x, mean, std_dev)\n",
    "\n",
    "# Example usage\n",
    "mean = 0\n",
    "std_dev = 1\n",
    "x_point = 1\n",
    "pdf_value = normal_pdf(x_point, mean, std_dev)\n",
    "print(\"PDF at x =\", x_point, \":\", pdf_value)\n"
   ]
  },
  {
   "cell_type": "markdown",
   "metadata": {},
   "source": [
    "Q4. What are the properties of Binomial distribution? Give two examples of events where binomial distribution can be applied.\n",
    "Properties of Binomial Distribution:\n",
    "\n",
    "It represents the number of successes in a fixed number of independent Bernoulli trials.\n",
    "It has two parameters: n, the number of trials, and p, the probability of success on each trial.\n",
    "It is discrete and takes on integer values from 0 to n.\n",
    "The mean of a binomial distribution is n×p, and the variance is n×p×(1−p).\n",
    "Examples of events where Binomial Distribution can be applied:\n",
    "Counting the number of heads obtained when flipping a coin n times.\n",
    "Determining the number of defective products in a sample of n items produced by a manufacturing process."
   ]
  },
  {
   "cell_type": "markdown",
   "metadata": {},
   "source": [
    "Q5. Generate a random sample of size 1000 from a binomial distribution with probability of success 0.4 and plot a histogram of the results using matplotlib."
   ]
  },
  {
   "cell_type": "code",
   "execution_count": null,
   "metadata": {},
   "outputs": [],
   "source": [
    "import numpy as np\n",
    "import matplotlib.pyplot as plt\n",
    "\n",
    "# Generate random sample\n",
    "sample = np.random.binomial(n=1, p=0.4, size=1000)\n",
    "\n",
    "# Plot histogram\n",
    "plt.hist(sample, bins=2, edgecolor='black')\n",
    "plt.xlabel('Outcome')\n",
    "plt.ylabel('Frequency')\n",
    "plt.title('Histogram of Binomial Distribution')\n",
    "plt.show()\n"
   ]
  },
  {
   "cell_type": "markdown",
   "metadata": {},
   "source": [
    "Q6. Write a Python function to calculate the cumulative distribution function of a Poisson distribution with given mean at a given point."
   ]
  },
  {
   "cell_type": "code",
   "execution_count": null,
   "metadata": {},
   "outputs": [],
   "source": [
    "import numpy as np\n",
    "import scipy.stats\n",
    "\n",
    "def poisson_cdf(x, mean):\n",
    "    return scipy.stats.poisson.cdf(x, mean)\n",
    "\n",
    "# Example usage\n",
    "mean = 3\n",
    "x_point = 2\n",
    "cdf_value = poisson_cdf(x_point, mean)\n",
    "print(\"CDF at x =\", x_point, \":\", cdf_value)\n"
   ]
  },
  {
   "cell_type": "markdown",
   "metadata": {},
   "source": [
    "Q7. How Binomial distribution different from Poisson distribution?\n",
    "Difference between Binomial and Poisson Distributions:\n",
    "\n",
    "Binomial Distribution is used to model the number of successes in a fixed number of trials, while Poisson Distribution is used to model the number of events occurring in a fixed interval of time or space.\n",
    "Binomial Distribution requires two parameters: the number of trials n and the probability of success p, while Poisson Distribution requires only one parameter: the mean number of occurrences λ.\n",
    "Binomial Distribution is discrete, while Poisson Distribution is also discrete but is often used to approximate a continuous distribution when the number of trials is large and the probability of success is small."
   ]
  },
  {
   "cell_type": "markdown",
   "metadata": {},
   "source": [
    "Q8. Generate a random sample of size 1000 from a Poisson distribution with mean 5 and calculate the sample mean and variance."
   ]
  },
  {
   "cell_type": "code",
   "execution_count": null,
   "metadata": {},
   "outputs": [],
   "source": [
    "import numpy as np\n",
    "\n",
    "# Generate random sample\n",
    "sample = np.random.poisson(lam=5, size=1000)\n",
    "\n",
    "# Calculate sample mean and variance\n",
    "sample_mean = np.mean(sample)\n",
    "sample_variance = np.var(sample)\n",
    "\n",
    "print(\"Sample Mean:\", sample_mean)\n",
    "print(\"Sample Variance:\", sample_variance)\n"
   ]
  },
  {
   "cell_type": "markdown",
   "metadata": {},
   "source": [
    "Q9. How mean and variance are related in Binomial distribution and Poisson distribution?\n",
    "In a Binomial Distribution, the mean (μ) is equal to n×p, and the variance (σ**2 ) is equal to n×p×(1−p).\n",
    "In a Poisson Distribution, both the mean (λ) and the variance (λ) are equal to the same parameter λ."
   ]
  },
  {
   "cell_type": "markdown",
   "metadata": {},
   "source": [
    "Q10. In normal distribution with respect to mean position, where does the least frequent data appear?\n",
    "In a normal distribution, the least frequent data appears furthest away from the mean. Since the normal distribution is symmetric, the least frequent data points occur in the tails of the distribution, which are located at the extremes (farthest from the mean) of the distribution."
   ]
  }
 ],
 "metadata": {
  "kernelspec": {
   "display_name": "Python 3",
   "language": "python",
   "name": "python3"
  },
  "language_info": {
   "name": "python",
   "version": "3.9.13"
  }
 },
 "nbformat": 4,
 "nbformat_minor": 2
}
