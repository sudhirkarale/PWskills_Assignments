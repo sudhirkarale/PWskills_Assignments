{
 "cells": [
  {
   "cell_type": "markdown",
   "metadata": {},
   "source": [
    "Q1: What is the difference between a t-test and a z-test? Provide an example scenario where you would use each type of test.\n",
    "Difference:\n",
    "\n",
    "Z-test is used when the population standard deviation is known or when the sample size is large (typically n > 30).\n",
    "t-test is used when the population standard deviation is unknown and the sample size is small (typically n < 30).\n",
    "Example Scenario:\n",
    "\n",
    "Z-test: You might use a z-test to compare the mean height of a sample of students to the known population mean height.\n",
    "t-test: You might use a t-test to compare the mean exam scores of two different classes, where the population standard deviation is unknown."
   ]
  },
  {
   "cell_type": "markdown",
   "metadata": {},
   "source": [
    "Q2: Differentiate between one-tailed and two-tailed tests.\n",
    "One-tailed test: It tests for a difference in one direction (e.g., greater than or less than). It is used when you are interested in determining if a sample mean is significantly greater than or less than a population mean.\n",
    "Two-tailed test: It tests for a difference in two directions (e.g., not equal to). It is used when you are interested in determining if a sample mean is significantly different from a population mean, without specifying the direction of the difference."
   ]
  },
  {
   "cell_type": "markdown",
   "metadata": {},
   "source": [
    "Q3: Explain the concept of Type 1 and Type 2 errors in hypothesis testing. Provide an example scenario for each type of error.\n",
    "Type 1 error (False Positive): Rejecting the null hypothesis when it is actually true. It occurs when we conclude that there is a significant effect or difference when there is none.\n",
    "\n",
    "Example: Concluding that a new drug is effective (rejecting the null hypothesis) when it actually has no effect.\n",
    "\n",
    "Type 2 error (False Negative): Failing to reject the null hypothesis when it is actually false. It occurs when we fail to identify a significant effect or difference that truly exists.\n",
    "\n",
    "Example: Failing to detect a disease in a patient (not rejecting the null hypothesis) when the patient actually has the disease."
   ]
  },
  {
   "cell_type": "markdown",
   "metadata": {},
   "source": [
    "Q4: Explain Bayes's theorem with an example.\n",
    "Bayes's Theorem is a mathematical formula used to revise or update the probability of an event based on new evidence. It is expressed as:\n",
    "P(A∣B)= (P(B∣A)×P(A)) / P(B)​\n",
    "Where:\n",
    "P(A∣B) is the probability of event A given that event B has occurred.\n",
    "P(B∣A) is the probability of event B given that event A has occurred.\n",
    "P(A) and P(B) are the probabilities of events A and B, respectively.\n",
    "Example: Suppose we have two boxes, one containing 2 red balls and 3 green balls, and the other containing 3 red balls and 2 green balls. We randomly select a box and then randomly select a ball from that box. Given that we selected a red ball, what is the probability that it came from the first box?\n",
    "P(A): Probability of selecting the first box = 0.5\n",
    "P(B∣A): Probability of selecting a red ball from the first box = 2/5\n",
    "P(B): Probability of selecting a red ball overall = (0.5*(2/5))+(0.5*(3/5))\n",
    "P(A∣B): Probability of selecting the first box given that a red ball was selected."
   ]
  },
  {
   "cell_type": "markdown",
   "metadata": {},
   "source": [
    "Q5: What is a confidence interval? How to calculate the confidence interval, explain with an example.\n",
    "Confidence Interval is a range of values constructed from sample data that is likely to contain the true population parameter with a certain level of confidence. It provides a measure of the uncertainty or precision of an estimate.\n",
    "\n",
    "Calculation:\n",
    "Determine the sample mean and sample standard deviation (s).\n",
    "Choose the desired confidence level (e.g., 95%, 99%).\n",
    "Find the appropriate critical value (z-score or t-score) based on the confidence level and sample size.\n",
    "Calculate the margin of error: Margin of Error = Critical Value × Standard Error\n",
    "Construct the confidence interval: Confidence Interval = ± Margin of Error\n",
    "Example:\n",
    "Suppose we want to estimate the average height of students in a school with 95% confidence. We take a random sample of 100 students and find that the sample mean height is 65 inches with a sample standard deviation of 3 inches.\n",
    "Sample Mean : 65 inches\n",
    "Sample Standard Deviation (s): 3 inches\n",
    "Critical Value (z-score for 95% confidence): 1.96 (from z-table)\n",
    "Standard Error (SE): 0.3 inches\n",
    "Margin of Error: 1.96×0.3=0.588 inches\n",
    "Confidence Interval: 65±0.588=(64.412,65.588) inches"
   ]
  },
  {
   "cell_type": "markdown",
   "metadata": {},
   "source": [
    "Q6: Bayes' Theorem\n",
    "Bayes' theorem allows us to calculate the posterior probability of an event, which is the probability of the event occurring given new evidence.\n",
    "\n",
    "Here's the formula:\n",
    "\n",
    "P(A | B) = ( P(B | A) * P(A) ) / P(B)\n",
    "where:\n",
    "\n",
    "P(A | B) is the posterior probability of event A occurring given evidence B.\n",
    "P(B | A) is the likelihood of evidence B occurring given that event A is true.\n",
    "P(A) is the prior probability of event A occurring (initial knowledge about A before considering B).\n",
    "P(B) is the total probability of observing evidence B (regardless of A).\n",
    "Sample Problem:\n",
    "\n",
    "Imagine you have a box with 10 red balls and 5 blue balls (prior probability). You randomly pick a ball without looking (event A) and it turns out to be red (evidence B). What's the probability the next ball you pick (another event) will also be red?\n",
    "\n",
    "Solution:\n",
    "\n",
    "P(A) = Probability of picking a red ball initially (10 red balls / 15 total) = 2/3\n",
    "P(B | A) = Likelihood of picking red given it's red initially (always 1)\n",
    "P(B) = Probability of picking a red ball regardless (10 red balls / 15 total) = 2/3 (assuming you don't put the first ball back)\n",
    "Posterior Probability:\n",
    "\n",
    "P(Red again | Picked red first) = (1 * 2/3) / (2/3) = 1\n",
    "\n",
    "Therefore, even though the initial probability of a red ball was 2/3, knowing you already picked a red ball makes the certainty (posterior probability) of picking another red ball 100%."
   ]
  },
  {
   "cell_type": "markdown",
   "metadata": {},
   "source": [
    "Q7: Confidence Interval\n",
    "A confidence interval represents a range of values that are likely to contain the population mean with a certain level of confidence (usually 95%). It is calculated using the formula:\n",
    "\n",
    "CI = mean +/- (z * standard deviation) / sqrt(sample size)\n",
    "where:\n",
    "\n",
    "CI is the confidence interval.\n",
    "mean is the sample mean.\n",
    "standard deviation is the sample standard deviation.\n",
    "z is the z-score corresponding to the desired confidence level (1.96 for 95% confidence).\n",
    "sample size is the number of data points in the sample.\n",
    "Interpretation:\n",
    "\n",
    "In your example, with a mean of 50 and a standard deviation of 5, and a 95% confidence level (z = 1.96):\n",
    "\n",
    "CI = 50 +/- (1.96 * 5) / sqrt(sample size)\n",
    "Without knowing the sample size, we can't calculate the specific interval. However, we can interpret that we are 95% confident the true population mean falls within this range. The smaller the confidence interval, the more precise our estimate of the population mean."
   ]
  },
  {
   "cell_type": "markdown",
   "metadata": {},
   "source": [
    "Q8: Margin of Error and Sample Size\n",
    "The margin of error (ME) is half the width of the confidence interval. It represents the amount of error we can tolerate when estimating the population mean from the sample.\n",
    "\n",
    "A larger sample size reduces the margin of error. This is because a larger sample provides a more accurate representation of the population.\n",
    "\n",
    "Scenario:\n",
    "\n",
    "Imagine estimating the average height of students in your school. A small sample (10 students) would likely have a larger margin of error compared to a large sample (100 students). The larger sample provides a more precise estimate, resulting in a smaller margin of error and a narrower confidence interval."
   ]
  },
  {
   "cell_type": "markdown",
   "metadata": {},
   "source": [
    "Q9: Z-score Calculation and Interpretation\n",
    "Calculation:\n",
    "\n",
    "We can use the formula:\n",
    "\n",
    "z = (x - μ) / σ\n",
    "\n",
    "where:\n",
    "\n",
    "z is the z-score\n",
    "x is the data point value (75)\n",
    "μ is the population mean (70)\n",
    "σ is the population standard deviation (5)\n",
    "z = (75 - 70) / 5 = 1\n",
    "\n",
    "Interpretation:\n",
    "\n",
    "The z-score of 1 indicates that the data point (75) is 1 standard deviation above the population mean (70).  In other words, this data point is higher than the average by an amount equal to one standard deviation."
   ]
  },
  {
   "cell_type": "markdown",
   "metadata": {},
   "source": [
    "Q10: Hypothesis Test with t-test\n",
    "A t-test is appropriate for analyzing the mean of a small sample (typically less than 30) assuming the population standard deviation is unknown. Here, we can perform a one-sample t-test to see if the average weight loss (6 pounds) is significantly different from zero (assuming no weight loss is the null hypothesis).\n",
    "\n",
    "However, to conduct a complete hypothesis test, we would need additional information:\n",
    "\n",
    "Specific alternative hypothesis: Is the drug expected to cause weight loss (one-tailed test) or simply a change in weight (two-tailed test)?\n",
    "The calculated t-statistic based on the sample data.\n",
    "Degrees of freedom (df): This depends on the sample size (n-1).\n",
    "With this information, we could compare the t-statistic to the critical t-value from a t-distribution table for the chosen significance level (95%) and degrees of freedom. If the calculated t-statistic falls outside the critical region, we can reject the null hypothesis and conclude the drug has a significant effect on weight loss.\n"
   ]
  },
  {
   "cell_type": "markdown",
   "metadata": {},
   "source": [
    "Q11: Confidence Interval for Proportion\n",
    "We can use the following formula to calculate the 95% confidence interval for a proportion:\n",
    "\n",
    "p̂ ± z * sqrt(p̂(1 - p̂) / n)\n",
    "where:\n",
    "\n",
    "p̂ is the sample proportion (0.65 in this case)\n",
    "z is the z-score for a 95% confidence level (1.96)\n",
    "n is the sample size (500)\n",
    "Calculation:\n",
    "\n",
    "0.65 +/- 1.96 * sqrt(0.65 * (1 - 0.65) / 500) ≈ 0.65 +/- 0.04\n",
    "Confidence Interval: (0.61, 0.69)\n",
    "\n",
    "Interpretation:\n",
    "\n",
    "We are 95% confident that the true proportion of people satisfied with their job lies between 61% and 69%.\n",
    "\n"
   ]
  },
  {
   "cell_type": "markdown",
   "metadata": {},
   "source": [
    "Q12: Comparing Two Teaching Methods (Independent Samples t-test)\n",
    "Here, we can perform an independent samples t-test to compare the means of two independent groups (students taught with method A vs. method B).\n",
    "\n",
    "Steps:\n",
    "\n",
    "State the null and alternative hypothesis:\n",
    "Null hypothesis (H0): There is no significant difference in the mean scores between the two teaching methods (μA = μB).\n",
    "Alternative hypothesis (H1): There is a significant difference in the mean scores between the two teaching methods (μA ≠ μB).\n",
    "Determine the significance level (α): α = 0.01 (one-tailed or two-tailed test depends on the research question).\n",
    "\n",
    "Check assumptions:\n",
    "\n",
    "Normally distributed populations (may require larger samples or normality tests).\n",
    "Homogeneity of variances (compare variances with F-test or Levene's test).\n",
    "Calculate the t-statistic: This involves calculations based on the sample means, standard deviations, and sample sizes. Software can be used for this step.\n",
    "\n",
    "Find the critical t-value: Based on the chosen significance level (0.01) and degrees of freedom (df = n1 + n2 - 2, where n1 and n2 are the sample sizes).\n",
    "\n",
    "Interpret the results:\n",
    "\n",
    "If the calculated t-statistic falls outside the critical region (above for a one-tailed right test or below and above for a two-tailed test), reject the null hypothesis and conclude a significant difference between the teaching methods.\n",
    "If the t-statistic falls within the critical region, fail to reject the null hypothesis (insufficient evidence for a significant difference)."
   ]
  },
  {
   "cell_type": "markdown",
   "metadata": {},
   "source": [
    "Q13: Confidence Interval for Population Mean\n",
    "We can use the formula for a one-sample t-distribution confidence interval:\n",
    "\n",
    "mean +/- t * (standard deviation / sqrt(sample size))\n",
    "where:\n",
    "\n",
    "mean is the sample mean (65)\n",
    "standard deviation is the population standard deviation (given as 8)\n",
    "sample size is 50\n",
    "t is the z-score for a 90% confidence level (approximately 1.64 from a t-distribution table with df = n-1 = 49)\n",
    "Calculation:\n",
    "\n",
    "65 +/- 1.64 * (8 / sqrt(50)) ≈ 65 +/- 2.56\n",
    "\n",
    "Confidence Interval: (62.44, 67.56)\n",
    "\n",
    "We are 90% confident that the true population mean falls between 62.44 and 67.56."
   ]
  },
  {
   "cell_type": "markdown",
   "metadata": {},
   "source": [
    "Q14. In a study of the effects of caffeine on reaction time, a sample of 30 participants had an average reaction time of 0.25 seconds with a standard deviation of 0.05 seconds. Conduct a hypothesis test to determine if the caffeine has a significant effect on reaction time at a 90% confidence level using a t-test.\n",
    "\n",
    "This scenario requires a one-sample t-test to assess if the average reaction time (0.25 seconds) deviates significantly from a hypothesized value (usually 0 seconds for reaction time tests). We'll analyze at a 90% confidence level (alpha = 0.10).\n",
    "\n",
    "**1. Define the Hypotheses:**\n",
    "\n",
    "* Null Hypothesis (H0): There is NO significant effect of caffeine on reaction time. The average reaction time is 0.25 seconds (μ = 0.25).\n",
    "* Alternative Hypothesis (H1): There IS a significant effect of caffeine. The average reaction time is different from 0.25 seconds (μ ≠ 0.25).\n",
    "\n",
    "**2. Determine the Test Statistic:**\n",
    "\n",
    "We'll calculate the t-statistic using the sample mean (x̄), hypothesized mean (μ₀), sample standard deviation (s), and sample size (n).\n",
    "\n",
    "t = (x̄ - μ₀) / (s / √n)\n",
    "t = (0.25 seconds - 0.25 seconds) / (0.05 seconds / √30)\n",
    "\n",
    "**Since the hypothesized mean (0.25 seconds) is the same as the sample mean, the t-statistic becomes 0.**\n",
    "\n",
    "**3. Determine the p-value:**\n",
    "\n",
    "Due to the central limit theorem, the sampling distribution of the t-statistic with 29 degrees of freedom (n-1) approximates a normal distribution. With a t-statistic of 0 and 29 degrees of freedom, the two-tailed p-value will be 1 (refer to a t-distribution table).\n",
    "\n",
    "**4. Interpretation:**\n",
    "\n",
    "* A p-value of 1 indicates we cannot reject the null hypothesis at a 90% confidence level. \n",
    "* There's insufficient evidence to claim caffeine has a significant effect on reaction time in this sample.\n",
    "\n",
    "**Conclusion:**\n",
    "\n",
    "Based on this limited sample, we cannot conclude that caffeine has a statistically significant impact on reaction time at a 90% confidence level. It's important to consider limitations:\n",
    "\n",
    "* A larger sample size might yield a more definitive result.\n",
    "* The chosen hypothesized mean (0.25 seconds) might not be the most appropriate reference point.\n",
    "* Individual variations in caffeine metabolism could influence results.\n",
    "\n",
    "Further research with a larger sample, a different hypothesized mean, and consideration of individual factors might provide a clearer picture. "
   ]
  },
  {
   "cell_type": "markdown",
   "metadata": {},
   "source": []
  }
 ],
 "metadata": {
  "kernelspec": {
   "display_name": "Python 3",
   "language": "python",
   "name": "python3"
  },
  "language_info": {
   "name": "python",
   "version": "3.8.16"
  }
 },
 "nbformat": 4,
 "nbformat_minor": 2
}
